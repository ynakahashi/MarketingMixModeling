{
 "cells": [
  {
   "cell_type": "markdown",
   "metadata": {},
   "source": [
    "# AdStock効果を推定しつつ回帰を回したい⑤\n",
    "- Author: Y.Nakahashi\n",
    "- Date: 2018-01-25"
   ]
  },
  {
   "cell_type": "markdown",
   "metadata": {},
   "source": [
    "## 目的\n",
    "*Marketing Mix Modeling*で試してみたいと思っていたモデルがあります。ずばり「AdStock効果を推定しつつ階層ベイズと状態空間モデルで回帰を回したい」です。ｘｘｘｘ"
   ]
  },
  {
   "cell_type": "markdown",
   "metadata": {},
   "source": [
    "#### ライブラリの読み込み"
   ]
  },
  {
   "cell_type": "code",
   "execution_count": 1,
   "metadata": {},
   "outputs": [
    {
     "name": "stderr",
     "output_type": "stream",
     "text": [
      "Loading required package: ggplot2\n",
      "Loading required package: StanHeaders\n",
      "rstan (Version 2.16.2, packaged: 2017-07-03 09:24:58 UTC, GitRev: 2e1f913d3ca3)\n",
      "For execution on a local, multicore CPU with excess RAM we recommend calling\n",
      "rstan_options(auto_write = TRUE)\n",
      "options(mc.cores = parallel::detectCores())\n"
     ]
    }
   ],
   "source": [
    "library(rstan)\n",
    "rstan_options(auto_write = TRUE)\n",
    "options(mc.cores = parallel::detectCores())"
   ]
  },
  {
   "cell_type": "code",
   "execution_count": 2,
   "metadata": {
    "collapsed": true
   },
   "outputs": [],
   "source": [
    "simulate_y <- function(pars) {\n",
    "   ## Simulation parameters\n",
    "   n         <- pars[1] # num of observation\n",
    "   mu        <- pars[2] # intercept\n",
    "   var_e     <- pars[3] # residual variance\n",
    "   beta_01   <- pars[4] # regression coefficient of X1 to be esitmated\n",
    "   lambda_01 <- pars[5] # decay rate of Ad-Stock effect of X1\n",
    "   beta_02   <- pars[6] # regression coefficient of X2 to be esitmated\n",
    "   lambda_02 <- pars[7] # decay rate of Ad-Stock effect of X2\n",
    "   \n",
    "   ## Create true Ad-Stock variables\n",
    "   X_01_raw <- rgamma(n, 3) * ifelse(runif(n) > 0.7, 0, 1)\n",
    "   X_01_fil <- stats::filter(X_01_raw, lambda_01, \"recursive\")\n",
    "   \n",
    "   X_02_raw <- rgamma(n, 2) * ifelse(runif(n) > 0.8, 0, 1)\n",
    "   X_02_fil <- stats::filter(X_02_raw, lambda_02, \"recursive\")\n",
    "   \n",
    "   ## Create residuals\n",
    "   error <- rnorm(n, 0, sqrt(var_e))\n",
    "   \n",
    "   ## Create observations   \n",
    "   y     <- mu + beta_01 * X_01_fil + beta_02 * X_02_fil + error\n",
    "   \n",
    "   ## Return dataset\n",
    "   dat <- data.frame(\n",
    "      \"Y\"          = y,\n",
    "      \"X_01\"       = X_01_raw,\n",
    "      \"X_02\"       = X_02_raw,\n",
    "      \"X_01_Fil\"   = X_01_fil,\n",
    "      \"X_02_Fil\"   = X_02_fil,\n",
    "      \"Y_lag\"      = dplyr::lag(y, 1),\n",
    "      \"True_Error\" = error)\n",
    "   return(dat)\n",
    "}"
   ]
  },
  {
   "cell_type": "code",
   "execution_count": 3,
   "metadata": {},
   "outputs": [
    {
     "ename": "ERROR",
     "evalue": "Error: `x` must be a vector, not a ts object, do you want `stats::lag()`?\n",
     "output_type": "error",
     "traceback": [
      "Error: `x` must be a vector, not a ts object, do you want `stats::lag()`?\nTraceback:\n",
      "1. na.omit(simulate_y(init_par))",
      "2. simulate_y(init_par)",
      "3. data.frame(Y = y, X_01 = X_01_raw, X_02 = X_02_raw, X_01_Fil = X_01_fil, \n .     X_02_Fil = X_02_fil, Y_lag = dplyr::lag(y, 1), True_Error = error)   # at line 25-32 of file <text>",
      "4. dplyr::lag(y, 1)",
      "5. bad_args(\"x\", \"must be a vector, not a ts object, do you want `stats::lag()`?\")",
      "6. glubort(fmt_args(args), ..., .envir = .envir)",
      "7. .abort(text)"
     ]
    }
   ],
   "source": [
    "set.seed(123)\n",
    "init_par <- array(c(100, 5, 2, 0.5, 0.6, 0.8, 0.5))\n",
    "dat_Ana  <- na.omit(simulate_y(init_par))"
   ]
  },
  {
   "cell_type": "code",
   "execution_count": null,
   "metadata": {
    "collapsed": true
   },
   "outputs": [],
   "source": []
  }
 ],
 "metadata": {
  "kernelspec": {
   "display_name": "R",
   "language": "R",
   "name": "ir"
  },
  "language_info": {
   "codemirror_mode": "r",
   "file_extension": ".r",
   "mimetype": "text/x-r-source",
   "name": "R",
   "pygments_lexer": "r",
   "version": "3.3.3"
  }
 },
 "nbformat": 4,
 "nbformat_minor": 2
}
